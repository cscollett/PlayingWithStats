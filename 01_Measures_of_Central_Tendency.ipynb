{
 "cells": [
  {
   "cell_type": "markdown",
   "metadata": {},
   "source": [
    "## Measures of Central Tendency\n",
    "https://www.youtube.com/watch?v=kn83BA7cRNM\n",
    "\n",
    "This notebook walks through the basic measures of central tendency in the Crash Course \"#3 Mean, Median, and Mode: Measures of Central Tendency\" material using Python 3 in Jupyter notebooks."
   ]
  },
  {
   "cell_type": "code",
   "execution_count": null,
   "metadata": {},
   "outputs": [],
   "source": [
    "# Boilerplate Environment. See notebook: 0_Getting_Started_with_Statistics_and_Python\n",
    "\n",
    "# Determining enviornment\n",
    "def at_google_colab():\n",
    "    try:\n",
    "        cfg = get_ipython().config \n",
    "        if cfg['IPKernelApp']['kernel_class'] == 'google.colab._kernel.Kernel':\n",
    "            return True\n",
    "        else:\n",
    "            return False\n",
    "    except NameError:\n",
    "        return False\n",
    "\n",
    "# where are we?\n",
    "location = None\n",
    "if at_google_colab():\n",
    "    location = 'at Google'\n",
    "else:\n",
    "    location = 'locally'\n",
    "\n",
    "# print prediction\n",
    "print('I think you are running {}!'.format(location))\n",
    "\n",
    "# Import packages\n",
    "import numpy as np\n",
    "import pandas as pd\n",
    "import matplotlib\n",
    "import matplotlib.pyplot as plt    \n",
    "if at_google_colab:\n",
    "    %matplotlib inline\n",
    "else:\n",
    "    %matplotlib notebook"
   ]
  },
  {
   "cell_type": "markdown",
   "metadata": {},
   "source": [
    "\n",
    "## Calculating the Measure of Central Tendency (Mean, Median, Mode)\n"
   ]
  },
  {
   "cell_type": "markdown",
   "metadata": {},
   "source": [
    "### 1. Sample Data (Small Coffee in Uptown) and DataFrame Tutorial\n",
    "The average cost of a cup of a small coffee in uptown Oakland (from my memory)."
   ]
  },
  {
   "cell_type": "code",
   "execution_count": null,
   "metadata": {},
   "outputs": [],
   "source": [
    "# Load the data\n",
    "d = {'shop': ['Donut Savant','Modern Coffee', 'Tierra Mia Coffee', 'Tertulia Coffee', 'Farley\\'s East', 'Starbucks', 'Aroma'], 'price': [1.75, 2.00, 2.75, 3.00, 2.50, 1.95, 1.50]}\n",
    "coffee = pd.DataFrame(data=d)\n",
    "# let's look at the data\n",
    "print(coffee)"
   ]
  },
  {
   "cell_type": "markdown",
   "metadata": {},
   "source": [
    "What we've created is a Pandas DataFrame, which is a relational table. "
   ]
  },
  {
   "cell_type": "code",
   "execution_count": null,
   "metadata": {},
   "outputs": [],
   "source": [
    "# type will tell you the data structure of a variable\n",
    "print(type(coffee))"
   ]
  },
  {
   "cell_type": "markdown",
   "metadata": {},
   "source": [
    "The dataframe has rows with index places, and columns with headers. To better a better sense of scale you can see the size or \"shape\" of the dataframe."
   ]
  },
  {
   "cell_type": "code",
   "execution_count": null,
   "metadata": {},
   "outputs": [],
   "source": [
    "print(\"Shape of data (rows, columns): {}\".format(coffee.shape))\n",
    "print(\"Size (count of all values): {}\".format(coffee.size))"
   ]
  },
  {
   "cell_type": "markdown",
   "metadata": {},
   "source": [
    "Print all the columns in the dataframe"
   ]
  },
  {
   "cell_type": "code",
   "execution_count": null,
   "metadata": {},
   "outputs": [],
   "source": [
    "print(coffee.columns)"
   ]
  },
  {
   "cell_type": "markdown",
   "metadata": {},
   "source": [
    "Or print the data types. "
   ]
  },
  {
   "cell_type": "code",
   "execution_count": null,
   "metadata": {},
   "outputs": [],
   "source": [
    "print(\"Data Types: {}\".format(coffee.dtypes))"
   ]
  },
  {
   "cell_type": "markdown",
   "metadata": {},
   "source": [
    "When your data is very big, you may only want to print out a couple rows."
   ]
  },
  {
   "cell_type": "code",
   "execution_count": null,
   "metadata": {},
   "outputs": [],
   "source": [
    "# default for header is 5 rows, but you can specify any number\n",
    "print(coffee.head(3))"
   ]
  },
  {
   "cell_type": "markdown",
   "metadata": {},
   "source": [
    "_**Exercise**: Can you guess the command to print the last three rows?_"
   ]
  },
  {
   "cell_type": "code",
   "execution_count": null,
   "metadata": {},
   "outputs": [],
   "source": [
    "#             shop  price\n",
    "# 4  Farley's East   2.50\n",
    "# 5      Starbucks   1.95\n",
    "# 6          Aroma   1.50"
   ]
  },
  {
   "cell_type": "markdown",
   "metadata": {},
   "source": [
    "If you want only the data, you can print a simple numpy array, with no columns or index rows. "
   ]
  },
  {
   "cell_type": "code",
   "execution_count": null,
   "metadata": {},
   "outputs": [],
   "source": [
    "print(type(coffee.values))\n",
    "print(coffee.values)"
   ]
  },
  {
   "cell_type": "markdown",
   "metadata": {},
   "source": [
    "Or maybe you only want the column as a list, in which case you can grab the series."
   ]
  },
  {
   "cell_type": "code",
   "execution_count": null,
   "metadata": {},
   "outputs": [],
   "source": [
    "print(type(coffee['price']))\n",
    "print(coffee['price'])"
   ]
  },
  {
   "cell_type": "markdown",
   "metadata": {},
   "source": [
    "It may be handy to know you can sort in a dataframe too."
   ]
  },
  {
   "cell_type": "code",
   "execution_count": null,
   "metadata": {},
   "outputs": [],
   "source": [
    "# this returns a sorted array, the original 'coffee' remains original order.\n",
    "sorted_coffee = coffee.sort_values(by=['price'])"
   ]
  },
  {
   "cell_type": "markdown",
   "metadata": {},
   "source": [
    "Finally, you may want to search for a subset. This is a little unintuitive if you are used to SQL. Let's say we want all the coffee less than 2.50. The first step is to create an evaluation of every row on a condition, returning a Pandas Series."
   ]
  },
  {
   "cell_type": "code",
   "execution_count": null,
   "metadata": {},
   "outputs": [],
   "source": [
    "select_criteria = coffee['price'] < 2.50\n",
    "print(type(select_criteria))\n",
    "print(select_criteria)"
   ]
  },
  {
   "cell_type": "markdown",
   "metadata": {},
   "source": [
    "Then you pass that series into the original dataframe. It will only return the rows that are true in the series you passed."
   ]
  },
  {
   "cell_type": "code",
   "execution_count": null,
   "metadata": {},
   "outputs": [],
   "source": [
    "print(coffee[select_criteria])"
   ]
  },
  {
   "cell_type": "markdown",
   "metadata": {},
   "source": [
    "For shorthand you can combine it into one statement."
   ]
  },
  {
   "cell_type": "code",
   "execution_count": null,
   "metadata": {},
   "outputs": [],
   "source": [
    "print(coffee[coffee['price'] < 2.50])"
   ]
  },
  {
   "cell_type": "markdown",
   "metadata": {},
   "source": [
    "### 2. Mean (aka Average)\n",
    "\"For a data set, the arithmetic mean, also called the mathematical expectation or average, is the central value of a discrete set of numbers: specifically, the sum of the values divided by the number of values.\" - Wikipedia\n",
    "#### Calculating the Mean"
   ]
  },
  {
   "cell_type": "code",
   "execution_count": null,
   "metadata": {},
   "outputs": [],
   "source": [
    "print('Mean')\n",
    "\n",
    "# Even easier way: with pandas\n",
    "mean = coffee['price'].mean()\n",
    "print('Pandas: {}'.format(mean))"
   ]
  },
  {
   "cell_type": "markdown",
   "metadata": {},
   "source": [
    "_**Exercise**: Finish a method to calculate the mean by scratch?_"
   ]
  },
  {
   "cell_type": "code",
   "execution_count": null,
   "metadata": {},
   "outputs": [],
   "source": [
    "def my_mean(df,col):\n",
    "    count_of_values = len(df)\n",
    "    sum_of_column_values = df[col].sum()\n",
    "    # mean = ?\n",
    "    \n",
    "print('By scratch: {}'.format(my_mean(coffee,'price')))"
   ]
  },
  {
   "cell_type": "markdown",
   "metadata": {},
   "source": [
    "### 3. Median\n",
    "\"The median is the value separating the higher half from the lower half of a data sample (a population or a probability distribution). For a data set, it may be thought of as the \"middle\" value. For example, in the data set {1, 3, 3, 6, 7, 8, 9}, the median is 6, the fourth largest, and also the fourth smallest, number in the sample.\" Wikipedia\n",
    "#### Calculating the Median"
   ]
  },
  {
   "cell_type": "code",
   "execution_count": null,
   "metadata": {},
   "outputs": [],
   "source": [
    "print('Median')\n",
    "\n",
    "# Easy way: with numpy\n",
    "median = np.median(np.array(coffee['price']))\n",
    "print('Numpy: {}'.format(median))\n",
    "\n",
    "# Even easier way: with pandas\n",
    "median = coffee['price'].median()\n",
    "print('Pandas: {}'.format(median))"
   ]
  },
  {
   "cell_type": "markdown",
   "metadata": {},
   "source": [
    "**Modern Coffee is the** middle value, making it's coffee price the **median**."
   ]
  },
  {
   "cell_type": "markdown",
   "metadata": {},
   "source": [
    "_**Exercise**: Finish a method to calculate the median by scratch_"
   ]
  },
  {
   "cell_type": "code",
   "execution_count": null,
   "metadata": {},
   "outputs": [],
   "source": [
    "def my_median(df,col):\n",
    "    sorted_col_series = df.sort_values(col)[col]\n",
    "    # return center value when series odd\n",
    "    # or\n",
    "    # return mean between the two center values when series even\n",
    "    \n",
    "print('By scratch: {}'.format(my_median(coffee,'price')))"
   ]
  },
  {
   "cell_type": "markdown",
   "metadata": {},
   "source": [
    "### 4. Mode\n",
    "\"The mode of a set of data values is the value that appears most often. It is the value x at which its probability mass function takes its maximum value. In other words, it is the value that is most likely to be sampled.\" Wikipedia\n",
    "\n",
    "#### Calculating the Mode"
   ]
  },
  {
   "cell_type": "code",
   "execution_count": null,
   "metadata": {},
   "outputs": [],
   "source": [
    "print('Mode')\n",
    "\n",
    "# Pandas\n",
    "mode = coffee['price'].mode()\n",
    "print('Pandas: {}'.format(mode))"
   ]
  },
  {
   "cell_type": "markdown",
   "metadata": {},
   "source": [
    "**Oh no!** There is not a useful mode in the data, since no value occur more than any other value. Let's create a pretty print mode that doesn't do that."
   ]
  },
  {
   "cell_type": "code",
   "execution_count": null,
   "metadata": {},
   "outputs": [],
   "source": [
    "def pp_mode(df,col):\n",
    "    if len(df[col].mode()) < len(df[col]):\n",
    "        return df[col].mode()\n",
    "\n",
    "mode_pp = pp_mode(coffee,'price')\n",
    "print('Pretty mode: {}'.format(pp_mode(coffee,'price')))"
   ]
  },
  {
   "cell_type": "markdown",
   "metadata": {},
   "source": [
    "### 5. Updating data to get an interesting mode\n",
    "Let's see if we can get some more interesting results with a slightly more interesting dataset. We will add Gastropig's pricey cup of joe to the mix."
   ]
  },
  {
   "cell_type": "code",
   "execution_count": null,
   "metadata": {},
   "outputs": [],
   "source": [
    "# New dataframe with Gastropig added. \n",
    "# Side note: ignore index because we are appending an object w/o indexes to concat...I think.\n",
    "gp_coffee = coffee.append({'shop': 'Gastropig', 'price':3},ignore_index=True)\n",
    "print(\"Coffee+Gastropig\")\n",
    "print(gp_coffee)"
   ]
  },
  {
   "cell_type": "code",
   "execution_count": null,
   "metadata": {},
   "outputs": [],
   "source": [
    "# calculate with gastropig dataset\n",
    "print(\"Coffee+Gastropig\")\n",
    "gp_mean = gp_coffee['price'].mean()\n",
    "print('Mean: {}'.format(gp_mean)) \n",
    "gp_median = gp_coffee['price'].median()\n",
    "print('Median: {}'.format(gp_median)) \n",
    "gp_mode_pp = pp_mode(gp_coffee,'price')\n",
    "print('Mode: {}'.format(gp_mode_pp))  "
   ]
  },
  {
   "cell_type": "markdown",
   "metadata": {},
   "source": [
    "**Yuck!** The mode is still returned as a Pandas series, which is still not a very pretty print."
   ]
  },
  {
   "cell_type": "code",
   "execution_count": null,
   "metadata": {},
   "outputs": [],
   "source": [
    "def pp_mode(df,col):\n",
    "    if len(df[col].mode()) < len(df[col]):\n",
    "        return ','.join(map(str, df[col].mode())) \n",
    "    \n",
    "gp_mode_pp = pp_mode(gp_coffee,'price')"
   ]
  },
  {
   "cell_type": "code",
   "execution_count": null,
   "metadata": {},
   "outputs": [],
   "source": [
    "# Create a comparison dataframe (table)\n",
    "d = {'dataset': ['Coffee Dataset','Coffee+Gastropig'], 'mean': [mean,gp_mean], 'median': [median,gp_median], 'mode': [mode_pp,gp_mode_pp]}\n",
    "comparison = pd.DataFrame(data=d)\n",
    "print('Comparison of Datasets')\n",
    "print(comparison)"
   ]
  },
  {
   "cell_type": "markdown",
   "metadata": {},
   "source": [
    "_**Exercise**: If you wrote your own median method, let's see how it hands an even series._"
   ]
  },
  {
   "cell_type": "code",
   "execution_count": null,
   "metadata": {},
   "outputs": [],
   "source": [
    "print(\"It is *{}* that my_median method can handle even length series.\".format(my_median(gp_coffee,'price')==gp_coffee['price'].median()))"
   ]
  },
  {
   "cell_type": "markdown",
   "metadata": {},
   "source": [
    "### 6. Updating data to get a double mode\n",
    "To make the **mode** more even interesting, let's add a new place. Let's say Blue Bottle opens in uptown and is selling 2.50 coffee.\n"
   ]
  },
  {
   "cell_type": "code",
   "execution_count": null,
   "metadata": {},
   "outputs": [],
   "source": [
    "bb_coffee = gp_coffee.append({'shop': 'Blue Bottle', 'price':2.50},ignore_index=True)\n",
    "print(bb_coffee)"
   ]
  },
  {
   "cell_type": "code",
   "execution_count": null,
   "metadata": {},
   "outputs": [],
   "source": [
    "# calculate with blue bottle dataset\n",
    "bb_mean = bb_coffee['price'].mean() \n",
    "bb_median = bb_coffee['price'].median()\n",
    "bb_mode_pp = pp_mode(bb_coffee,'price')\n",
    "\n",
    "# Create a comparison dataframe (table)\n",
    "d = {'dataset': ['Coffee Dataset','Coffee+Gastropig','C+G+BB'], 'mean': [mean,gp_mean,bb_mean], 'median': [median,gp_median,bb_median], 'mode': [mode_pp,gp_mode_pp,bb_mode_pp]}\n",
    "comparison = pd.DataFrame(data=d)\n",
    "\n",
    "print('Another Comparison of Datasets')\n",
    "print(comparison)"
   ]
  },
  {
   "cell_type": "markdown",
   "metadata": {},
   "source": [
    "Yay, now we have mode displaying the two most common values."
   ]
  },
  {
   "cell_type": "markdown",
   "metadata": {},
   "source": [
    "### 7. Updating data to skew the mean\n",
    "The mean and median are still pretty close. Let's see if skewed we can get the data. What if Donut Savant decides to push the limit and sell coffee for $7 after the former-Uber building is filled with tech workers."
   ]
  },
  {
   "cell_type": "code",
   "execution_count": null,
   "metadata": {},
   "outputs": [],
   "source": [
    "# we will be updating in place, so lets make a new copy for new analysis\n",
    "ds_coffee = bb_coffee.copy()\n",
    "# Reset any row where shop is 'Donut Savant'\n",
    "# There may be better ways to do this, but I don't know it.\n",
    "ds_coffee.loc[ds_coffee['shop']=='Donut Savant', 'price'] = 7.00\n",
    "print(ds_coffee)"
   ]
  },
  {
   "cell_type": "code",
   "execution_count": null,
   "metadata": {},
   "outputs": [],
   "source": [
    "# calculate with blue bottle dataset\n",
    "ds_mean = ds_coffee['price'].mean() \n",
    "ds_median = ds_coffee['price'].median()\n",
    "ds_mode = None\n",
    "if len(ds_coffee['price'].mode()) < len(ds_coffee['price']):\n",
    "    ds_mode = ds_coffee['price'].mode()\n",
    "ds_mode_pp = ','.join(map(str, ds_mode)) \n",
    "\n",
    "# Create a comparison dataframe (table)\n",
    "d = {'dataset': ['Coffee Dataset','Coffee+Gastropig','C+G+BB', 'Upscale DS'], 'mean': [mean,gp_mean,bb_mean,ds_mean], 'median': [median,gp_median,bb_median,ds_median], 'mode': [mode_pp,gp_mode_pp,bb_mode_pp,ds_mode_pp]}\n",
    "comparison = pd.DataFrame(data=d)\n",
    "\n",
    "print('Comparison with major upcharge')\n",
    "print(comparison)"
   ]
  },
  {
   "cell_type": "markdown",
   "metadata": {},
   "source": [
    "_**Exercise**: It's getting pricey. Create a 'cheap' coffee dataframe that only includes shops that sell for $2 or less_"
   ]
  },
  {
   "cell_type": "code",
   "execution_count": null,
   "metadata": {},
   "outputs": [],
   "source": [
    "cheap_coffee = ds_coffee # minus the coffee over $2\n",
    "print('Cheap Coffee')\n",
    "print(cheap_coffee)"
   ]
  },
  {
   "cell_type": "markdown",
   "metadata": {},
   "source": [
    "## Done\n",
    "That's it for now! I think next notebook I'll try to put in more interesting data."
   ]
  },
  {
   "cell_type": "code",
   "execution_count": null,
   "metadata": {},
   "outputs": [],
   "source": []
  }
 ],
 "metadata": {
  "kernelspec": {
   "display_name": "Python 3",
   "language": "python",
   "name": "python3"
  },
  "language_info": {
   "codemirror_mode": {
    "name": "ipython",
    "version": 3
   },
   "file_extension": ".py",
   "mimetype": "text/x-python",
   "name": "python",
   "nbconvert_exporter": "python",
   "pygments_lexer": "ipython3",
   "version": "3.6.6"
  }
 },
 "nbformat": 4,
 "nbformat_minor": 2
}
