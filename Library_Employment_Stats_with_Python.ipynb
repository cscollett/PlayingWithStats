{
 "cells": [
  {
   "cell_type": "markdown",
   "metadata": {},
   "source": [
    "## Library Employment Stats\n",
    "https://fivethirtyeight.com/features/where-are-americas-librarians/"
   ]
  },
  {
   "cell_type": "code",
   "execution_count": 1,
   "metadata": {},
   "outputs": [
    {
     "name": "stdout",
     "output_type": "stream",
     "text": [
      "I think you are running locally!\n"
     ]
    }
   ],
   "source": [
    "# Boilerplate Environment. See notebook: 0_Getting_Started_with_Statistics_and_Python# Boile \n",
    "\n",
    "# Determining enviornment\n",
    "def at_google_colab():\n",
    "    try:\n",
    "        cfg = get_ipython().config \n",
    "        if cfg['IPKernelApp']['kernel_class'] == 'google.colab._kernel.Kernel':\n",
    "            return True\n",
    "        else:\n",
    "            return False\n",
    "    except NameError:\n",
    "        return False\n",
    "\n",
    "# where are we?\n",
    "location = None\n",
    "if at_google_colab():\n",
    "    location = 'at Google'\n",
    "else:\n",
    "    location = 'locally'\n",
    "\n",
    "# print prediction\n",
    "print('I think you are running {}!'.format(location))\n",
    "\n",
    "# Import packages\n",
    "import numpy as np\n",
    "import pandas as pd\n",
    "from scipy import stats\n",
    "import matplotlib\n",
    "import matplotlib.pyplot as plt    \n",
    "if at_google_colab:\n",
    "    %matplotlib inline\n",
    "else:\n",
    "    %matplotlib notebook\n",
    "\n",
    "if at_google_colab():\n",
    "    url = 'https://raw.githubusercontent.com/fivethirtyeight/data/master/librarians/librarians-by-msa.csv'\n",
    "    df = pd.read_csv(url,index_col=0,parse_dates=[0])\n",
    "else:\n",
    "    # Example of loading locally\n",
    "    df = pd.read_csv('data/libraries.csv')"
   ]
  },
  {
   "cell_type": "code",
   "execution_count": 2,
   "metadata": {},
   "outputs": [
    {
     "data": {
      "text/plain": [
       "(373, 6)"
      ]
     },
     "execution_count": 2,
     "metadata": {},
     "output_type": "execute_result"
    }
   ],
   "source": [
    "df.shape"
   ]
  },
  {
   "cell_type": "code",
   "execution_count": 17,
   "metadata": {},
   "outputs": [
    {
     "data": {
      "text/html": [
       "<div>\n",
       "<style scoped>\n",
       "    .dataframe tbody tr th:only-of-type {\n",
       "        vertical-align: middle;\n",
       "    }\n",
       "\n",
       "    .dataframe tbody tr th {\n",
       "        vertical-align: top;\n",
       "    }\n",
       "\n",
       "    .dataframe thead th {\n",
       "        text-align: right;\n",
       "    }\n",
       "</style>\n",
       "<table border=\"1\" class=\"dataframe\">\n",
       "  <thead>\n",
       "    <tr style=\"text-align: right;\">\n",
       "      <th></th>\n",
       "      <th>prim_state</th>\n",
       "      <th>area_name</th>\n",
       "      <th>tot_emp</th>\n",
       "      <th>emp_prse</th>\n",
       "      <th>jobs_1000</th>\n",
       "      <th>loc_quotient</th>\n",
       "    </tr>\n",
       "  </thead>\n",
       "  <tbody>\n",
       "    <tr>\n",
       "      <th>0</th>\n",
       "      <td>OH</td>\n",
       "      <td>Springfield, OH</td>\n",
       "      <td>NaN</td>\n",
       "      <td>NaN</td>\n",
       "      <td>NaN</td>\n",
       "      <td>**</td>\n",
       "    </tr>\n",
       "    <tr>\n",
       "      <th>1</th>\n",
       "      <td>WA</td>\n",
       "      <td>Mount Vernon-Anacortes, WA</td>\n",
       "      <td>NaN</td>\n",
       "      <td>NaN</td>\n",
       "      <td>NaN</td>\n",
       "      <td>**</td>\n",
       "    </tr>\n",
       "    <tr>\n",
       "      <th>2</th>\n",
       "      <td>PR</td>\n",
       "      <td>Aguadilla-Isabela-San Sebastian, PR</td>\n",
       "      <td>160.0</td>\n",
       "      <td>4.4</td>\n",
       "      <td>3.727</td>\n",
       "      <td>3.62</td>\n",
       "    </tr>\n",
       "    <tr>\n",
       "      <th>3</th>\n",
       "      <td>PR</td>\n",
       "      <td>Ponce, PR</td>\n",
       "      <td>180.0</td>\n",
       "      <td>3.6</td>\n",
       "      <td>3.434</td>\n",
       "      <td>3.34</td>\n",
       "    </tr>\n",
       "    <tr>\n",
       "      <th>4</th>\n",
       "      <td>PR</td>\n",
       "      <td>San German-Cabo Rojo, PR</td>\n",
       "      <td>50.0</td>\n",
       "      <td>0.2</td>\n",
       "      <td>2.679</td>\n",
       "      <td>2.6</td>\n",
       "    </tr>\n",
       "  </tbody>\n",
       "</table>\n",
       "</div>"
      ],
      "text/plain": [
       "  prim_state                            area_name  tot_emp  emp_prse  \\\n",
       "0         OH                      Springfield, OH      NaN       NaN   \n",
       "1         WA           Mount Vernon-Anacortes, WA      NaN       NaN   \n",
       "2         PR  Aguadilla-Isabela-San Sebastian, PR    160.0       4.4   \n",
       "3         PR                            Ponce, PR    180.0       3.6   \n",
       "4         PR             San German-Cabo Rojo, PR     50.0       0.2   \n",
       "\n",
       "   jobs_1000 loc_quotient  \n",
       "0        NaN           **  \n",
       "1        NaN           **  \n",
       "2      3.727         3.62  \n",
       "3      3.434         3.34  \n",
       "4      2.679          2.6  "
      ]
     },
     "execution_count": 17,
     "metadata": {},
     "output_type": "execute_result"
    }
   ],
   "source": [
    "# total_emp - the estimated total employment for the category\n",
    "# emp_prse - the percent relative standard error for the employment category\n",
    "# jobs_1000 - the number of jobs in the employment category per 1,000 jobs in the metro area\n",
    "# loc_quotient - I *think* this is geo-location related\n",
    "df.head()"
   ]
  },
  {
   "cell_type": "code",
   "execution_count": 4,
   "metadata": {},
   "outputs": [
    {
     "data": {
      "text/html": [
       "<div>\n",
       "<style scoped>\n",
       "    .dataframe tbody tr th:only-of-type {\n",
       "        vertical-align: middle;\n",
       "    }\n",
       "\n",
       "    .dataframe tbody tr th {\n",
       "        vertical-align: top;\n",
       "    }\n",
       "\n",
       "    .dataframe thead th {\n",
       "        text-align: right;\n",
       "    }\n",
       "</style>\n",
       "<table border=\"1\" class=\"dataframe\">\n",
       "  <thead>\n",
       "    <tr style=\"text-align: right;\">\n",
       "      <th></th>\n",
       "      <th>prim_state</th>\n",
       "      <th>area_name</th>\n",
       "      <th>tot_emp</th>\n",
       "      <th>emp_prse</th>\n",
       "      <th>jobs_1000</th>\n",
       "      <th>loc_quotient</th>\n",
       "    </tr>\n",
       "  </thead>\n",
       "  <tbody>\n",
       "    <tr>\n",
       "      <th>count</th>\n",
       "      <td>373</td>\n",
       "      <td>373</td>\n",
       "      <td>373</td>\n",
       "      <td>373</td>\n",
       "      <td>373</td>\n",
       "      <td>373</td>\n",
       "    </tr>\n",
       "    <tr>\n",
       "      <th>unique</th>\n",
       "      <td>52</td>\n",
       "      <td>373</td>\n",
       "      <td>93</td>\n",
       "      <td>195</td>\n",
       "      <td>324</td>\n",
       "      <td>135</td>\n",
       "    </tr>\n",
       "    <tr>\n",
       "      <th>top</th>\n",
       "      <td>TX</td>\n",
       "      <td>Morgantown, WV</td>\n",
       "      <td>40</td>\n",
       "      <td>6.6</td>\n",
       "      <td>0.663</td>\n",
       "      <td>1</td>\n",
       "    </tr>\n",
       "    <tr>\n",
       "      <th>freq</th>\n",
       "      <td>25</td>\n",
       "      <td>1</td>\n",
       "      <td>30</td>\n",
       "      <td>7</td>\n",
       "      <td>3</td>\n",
       "      <td>10</td>\n",
       "    </tr>\n",
       "  </tbody>\n",
       "</table>\n",
       "</div>"
      ],
      "text/plain": [
       "       prim_state       area_name tot_emp emp_prse jobs_1000 loc_quotient\n",
       "count         373             373     373      373       373          373\n",
       "unique         52             373      93      195       324          135\n",
       "top            TX  Morgantown, WV      40      6.6     0.663            1\n",
       "freq           25               1      30        7         3           10"
      ]
     },
     "execution_count": 4,
     "metadata": {},
     "output_type": "execute_result"
    }
   ],
   "source": [
    "df.describe()"
   ]
  },
  {
   "cell_type": "code",
   "execution_count": 5,
   "metadata": {},
   "outputs": [
    {
     "data": {
      "text/plain": [
       "prim_state      object\n",
       "area_name       object\n",
       "tot_emp         object\n",
       "emp_prse        object\n",
       "jobs_1000       object\n",
       "loc_quotient    object\n",
       "dtype: object"
      ]
     },
     "execution_count": 5,
     "metadata": {},
     "output_type": "execute_result"
    }
   ],
   "source": [
    "df.dtypes"
   ]
  },
  {
   "cell_type": "code",
   "execution_count": 6,
   "metadata": {},
   "outputs": [
    {
     "data": {
      "text/html": [
       "<div>\n",
       "<style scoped>\n",
       "    .dataframe tbody tr th:only-of-type {\n",
       "        vertical-align: middle;\n",
       "    }\n",
       "\n",
       "    .dataframe tbody tr th {\n",
       "        vertical-align: top;\n",
       "    }\n",
       "\n",
       "    .dataframe thead th {\n",
       "        text-align: right;\n",
       "    }\n",
       "</style>\n",
       "<table border=\"1\" class=\"dataframe\">\n",
       "  <thead>\n",
       "    <tr style=\"text-align: right;\">\n",
       "      <th></th>\n",
       "      <th>prim_state</th>\n",
       "      <th>area_name</th>\n",
       "      <th>tot_emp</th>\n",
       "      <th>emp_prse</th>\n",
       "      <th>jobs_1000</th>\n",
       "      <th>loc_quotient</th>\n",
       "    </tr>\n",
       "  </thead>\n",
       "  <tbody>\n",
       "    <tr>\n",
       "      <th>2</th>\n",
       "      <td>PR</td>\n",
       "      <td>Aguadilla-Isabela-San Sebastian, PR</td>\n",
       "      <td>160</td>\n",
       "      <td>4.4</td>\n",
       "      <td>3.727</td>\n",
       "      <td>3.62</td>\n",
       "    </tr>\n",
       "    <tr>\n",
       "      <th>3</th>\n",
       "      <td>PR</td>\n",
       "      <td>Ponce, PR</td>\n",
       "      <td>180</td>\n",
       "      <td>3.6</td>\n",
       "      <td>3.434</td>\n",
       "      <td>3.34</td>\n",
       "    </tr>\n",
       "    <tr>\n",
       "      <th>4</th>\n",
       "      <td>PR</td>\n",
       "      <td>San German-Cabo Rojo, PR</td>\n",
       "      <td>50</td>\n",
       "      <td>0.2</td>\n",
       "      <td>2.679</td>\n",
       "      <td>2.6</td>\n",
       "    </tr>\n",
       "    <tr>\n",
       "      <th>5</th>\n",
       "      <td>PR</td>\n",
       "      <td>Mayaguez, PR</td>\n",
       "      <td>80</td>\n",
       "      <td>1.4</td>\n",
       "      <td>2.563</td>\n",
       "      <td>2.49</td>\n",
       "    </tr>\n",
       "    <tr>\n",
       "      <th>6</th>\n",
       "      <td>KY</td>\n",
       "      <td>Owensboro, KY</td>\n",
       "      <td>100</td>\n",
       "      <td>34</td>\n",
       "      <td>2.099</td>\n",
       "      <td>2.04</td>\n",
       "    </tr>\n",
       "  </tbody>\n",
       "</table>\n",
       "</div>"
      ],
      "text/plain": [
       "  prim_state                            area_name tot_emp emp_prse jobs_1000  \\\n",
       "2         PR  Aguadilla-Isabela-San Sebastian, PR     160      4.4     3.727   \n",
       "3         PR                            Ponce, PR     180      3.6     3.434   \n",
       "4         PR             San German-Cabo Rojo, PR      50      0.2     2.679   \n",
       "5         PR                         Mayaguez, PR      80      1.4     2.563   \n",
       "6         KY                        Owensboro, KY     100       34     2.099   \n",
       "\n",
       "  loc_quotient  \n",
       "2         3.62  \n",
       "3         3.34  \n",
       "4          2.6  \n",
       "5         2.49  \n",
       "6         2.04  "
      ]
     },
     "execution_count": 6,
     "metadata": {},
     "output_type": "execute_result"
    }
   ],
   "source": [
    "df[df['tot_emp']!='**'].head()"
   ]
  },
  {
   "cell_type": "code",
   "execution_count": 7,
   "metadata": {},
   "outputs": [],
   "source": [
    "df[['tot_emp','emp_prse','jobs_1000']] = df[['tot_emp','emp_prse','jobs_1000']].apply(pd.to_numeric, errors='coerce')"
   ]
  },
  {
   "cell_type": "code",
   "execution_count": 8,
   "metadata": {},
   "outputs": [
    {
     "data": {
      "text/plain": [
       "prim_state       object\n",
       "area_name        object\n",
       "tot_emp         float64\n",
       "emp_prse        float64\n",
       "jobs_1000       float64\n",
       "loc_quotient     object\n",
       "dtype: object"
      ]
     },
     "execution_count": 8,
     "metadata": {},
     "output_type": "execute_result"
    }
   ],
   "source": [
    "df.dtypes"
   ]
  },
  {
   "cell_type": "code",
   "execution_count": 9,
   "metadata": {},
   "outputs": [
    {
     "data": {
      "text/html": [
       "<div>\n",
       "<style scoped>\n",
       "    .dataframe tbody tr th:only-of-type {\n",
       "        vertical-align: middle;\n",
       "    }\n",
       "\n",
       "    .dataframe tbody tr th {\n",
       "        vertical-align: top;\n",
       "    }\n",
       "\n",
       "    .dataframe thead th {\n",
       "        text-align: right;\n",
       "    }\n",
       "</style>\n",
       "<table border=\"1\" class=\"dataframe\">\n",
       "  <thead>\n",
       "    <tr style=\"text-align: right;\">\n",
       "      <th></th>\n",
       "      <th>prim_state</th>\n",
       "      <th>area_name</th>\n",
       "      <th>tot_emp</th>\n",
       "      <th>emp_prse</th>\n",
       "      <th>jobs_1000</th>\n",
       "      <th>loc_quotient</th>\n",
       "    </tr>\n",
       "  </thead>\n",
       "  <tbody>\n",
       "    <tr>\n",
       "      <th>0</th>\n",
       "      <td>OH</td>\n",
       "      <td>Springfield, OH</td>\n",
       "      <td>NaN</td>\n",
       "      <td>NaN</td>\n",
       "      <td>NaN</td>\n",
       "      <td>**</td>\n",
       "    </tr>\n",
       "    <tr>\n",
       "      <th>1</th>\n",
       "      <td>WA</td>\n",
       "      <td>Mount Vernon-Anacortes, WA</td>\n",
       "      <td>NaN</td>\n",
       "      <td>NaN</td>\n",
       "      <td>NaN</td>\n",
       "      <td>**</td>\n",
       "    </tr>\n",
       "    <tr>\n",
       "      <th>2</th>\n",
       "      <td>PR</td>\n",
       "      <td>Aguadilla-Isabela-San Sebastian, PR</td>\n",
       "      <td>160.0</td>\n",
       "      <td>4.4</td>\n",
       "      <td>3.727</td>\n",
       "      <td>3.62</td>\n",
       "    </tr>\n",
       "    <tr>\n",
       "      <th>3</th>\n",
       "      <td>PR</td>\n",
       "      <td>Ponce, PR</td>\n",
       "      <td>180.0</td>\n",
       "      <td>3.6</td>\n",
       "      <td>3.434</td>\n",
       "      <td>3.34</td>\n",
       "    </tr>\n",
       "    <tr>\n",
       "      <th>4</th>\n",
       "      <td>PR</td>\n",
       "      <td>San German-Cabo Rojo, PR</td>\n",
       "      <td>50.0</td>\n",
       "      <td>0.2</td>\n",
       "      <td>2.679</td>\n",
       "      <td>2.6</td>\n",
       "    </tr>\n",
       "  </tbody>\n",
       "</table>\n",
       "</div>"
      ],
      "text/plain": [
       "  prim_state                            area_name  tot_emp  emp_prse  \\\n",
       "0         OH                      Springfield, OH      NaN       NaN   \n",
       "1         WA           Mount Vernon-Anacortes, WA      NaN       NaN   \n",
       "2         PR  Aguadilla-Isabela-San Sebastian, PR    160.0       4.4   \n",
       "3         PR                            Ponce, PR    180.0       3.6   \n",
       "4         PR             San German-Cabo Rojo, PR     50.0       0.2   \n",
       "\n",
       "   jobs_1000 loc_quotient  \n",
       "0        NaN           **  \n",
       "1        NaN           **  \n",
       "2      3.727         3.62  \n",
       "3      3.434         3.34  \n",
       "4      2.679          2.6  "
      ]
     },
     "execution_count": 9,
     "metadata": {},
     "output_type": "execute_result"
    }
   ],
   "source": [
    "df.head()"
   ]
  },
  {
   "cell_type": "code",
   "execution_count": 10,
   "metadata": {},
   "outputs": [
    {
     "data": {
      "text/html": [
       "<div>\n",
       "<style scoped>\n",
       "    .dataframe tbody tr th:only-of-type {\n",
       "        vertical-align: middle;\n",
       "    }\n",
       "\n",
       "    .dataframe tbody tr th {\n",
       "        vertical-align: top;\n",
       "    }\n",
       "\n",
       "    .dataframe thead th {\n",
       "        text-align: right;\n",
       "    }\n",
       "</style>\n",
       "<table border=\"1\" class=\"dataframe\">\n",
       "  <thead>\n",
       "    <tr style=\"text-align: right;\">\n",
       "      <th></th>\n",
       "      <th>tot_emp</th>\n",
       "      <th>emp_prse</th>\n",
       "      <th>jobs_1000</th>\n",
       "    </tr>\n",
       "  </thead>\n",
       "  <tbody>\n",
       "    <tr>\n",
       "      <th>count</th>\n",
       "      <td>371.000000</td>\n",
       "      <td>371.000000</td>\n",
       "      <td>371.000000</td>\n",
       "    </tr>\n",
       "    <tr>\n",
       "      <th>mean</th>\n",
       "      <td>305.714286</td>\n",
       "      <td>11.393531</td>\n",
       "      <td>1.080935</td>\n",
       "    </tr>\n",
       "    <tr>\n",
       "      <th>std</th>\n",
       "      <td>541.960120</td>\n",
       "      <td>8.616456</td>\n",
       "      <td>0.402760</td>\n",
       "    </tr>\n",
       "    <tr>\n",
       "      <th>min</th>\n",
       "      <td>30.000000</td>\n",
       "      <td>0.000000</td>\n",
       "      <td>0.163000</td>\n",
       "    </tr>\n",
       "    <tr>\n",
       "      <th>25%</th>\n",
       "      <td>70.000000</td>\n",
       "      <td>5.300000</td>\n",
       "      <td>0.819000</td>\n",
       "    </tr>\n",
       "    <tr>\n",
       "      <th>50%</th>\n",
       "      <td>110.000000</td>\n",
       "      <td>9.100000</td>\n",
       "      <td>1.024000</td>\n",
       "    </tr>\n",
       "    <tr>\n",
       "      <th>75%</th>\n",
       "      <td>285.000000</td>\n",
       "      <td>15.200000</td>\n",
       "      <td>1.270000</td>\n",
       "    </tr>\n",
       "    <tr>\n",
       "      <th>max</th>\n",
       "      <td>5440.000000</td>\n",
       "      <td>45.500000</td>\n",
       "      <td>3.727000</td>\n",
       "    </tr>\n",
       "  </tbody>\n",
       "</table>\n",
       "</div>"
      ],
      "text/plain": [
       "           tot_emp    emp_prse   jobs_1000\n",
       "count   371.000000  371.000000  371.000000\n",
       "mean    305.714286   11.393531    1.080935\n",
       "std     541.960120    8.616456    0.402760\n",
       "min      30.000000    0.000000    0.163000\n",
       "25%      70.000000    5.300000    0.819000\n",
       "50%     110.000000    9.100000    1.024000\n",
       "75%     285.000000   15.200000    1.270000\n",
       "max    5440.000000   45.500000    3.727000"
      ]
     },
     "execution_count": 10,
     "metadata": {},
     "output_type": "execute_result"
    }
   ],
   "source": [
    "df.describe()"
   ]
  },
  {
   "cell_type": "code",
   "execution_count": 28,
   "metadata": {},
   "outputs": [
    {
     "name": "stdout",
     "output_type": "stream",
     "text": [
      "Total Employment\n",
      "Varience: 293720.7722007721\n",
      "StD: 541.9601204892958\n"
     ]
    },
    {
     "data": {
      "text/plain": [
       "<matplotlib.axes._subplots.AxesSubplot at 0x1a16018588>"
      ]
     },
     "execution_count": 28,
     "metadata": {},
     "output_type": "execute_result"
    },
    {
     "data": {
      "image/png": "[encoded data removed]",
      "text/plain": [
       "<Figure size 432x288 with 1 Axes>"
      ]
     },
     "metadata": {},
     "output_type": "display_data"
    }
   ],
   "source": [
    "print('Total Employment')\n",
    "print('Varience: {}'.format(df.loc[:,'tot_emp'].var()))\n",
    "print('StD: {}'.format(df.loc[:,'tot_emp'].std()))\n",
    "df['tot_emp'].plot.box()"
   ]
  },
  {
   "cell_type": "code",
   "execution_count": 65,
   "metadata": {},
   "outputs": [
    {
     "name": "stdout",
     "output_type": "stream",
     "text": [
      "prim_state\n",
      "CA    2530.0\n",
      "DC    3340.0\n",
      "GA    2250.0\n",
      "IL    4050.0\n",
      "MA    2540.0\n",
      "MD    1560.0\n",
      "MN    1450.0\n",
      "NY    7970.0\n",
      "PA    3330.0\n",
      "TX    3910.0\n",
      "WA    1460.0\n",
      "Name: tot_emp, dtype: float64\n"
     ]
    }
   ],
   "source": [
    "te_outliers = df[df['tot_emp'] > df['tot_emp'].mean() + 2 * df['tot_emp'].std()]\n",
    "print(te_outliers.groupby(['prim_state'])['tot_emp'].sum())"
   ]
  },
  {
   "cell_type": "code",
   "execution_count": 29,
   "metadata": {},
   "outputs": [
    {
     "name": "stdout",
     "output_type": "stream",
     "text": [
      "Libriarians per 1000\n",
      "Varience: 0.1622153201282145\n",
      "StD: 0.40275963070821097\n"
     ]
    },
    {
     "data": {
      "text/plain": [
       "<matplotlib.axes._subplots.AxesSubplot at 0x1a160f0198>"
      ]
     },
     "execution_count": 29,
     "metadata": {},
     "output_type": "execute_result"
    },
    {
     "data": {
      "image/png": "[encoded data removed]",
      "text/plain": [
       "<Figure size 432x288 with 1 Axes>"
      ]
     },
     "metadata": {},
     "output_type": "display_data"
    }
   ],
   "source": [
    "print('Libriarians per 1000')\n",
    "print('Varience: {}'.format(df.loc[:,'jobs_1000'].var()))\n",
    "print('StD: {}'.format(df.loc[:,'jobs_1000'].std()))\n",
    "df['jobs_1000'].plot.box()"
   ]
  },
  {
   "cell_type": "code",
   "execution_count": 66,
   "metadata": {},
   "outputs": [
    {
     "name": "stdout",
     "output_type": "stream",
     "text": [
      "   prim_state                                          area_name  jobs_1000\n",
      "9          CT                                      New Haven, CT      2.010\n",
      "14         DE                                          Dover, DE      1.952\n",
      "11         FL                                    Tallahassee, FL      1.975\n",
      "6          KY                                      Owensboro, KY      2.099\n",
      "10         MA  Haverhill-North Andover-Amesbury, MA-NH NECTA ...      1.985\n",
      "8          MD  Bethesda-Rockville-Frederick, MD Metropolitan ...      2.036\n",
      "15         MO                                  St. Joseph, MO-KS      1.942\n",
      "12         NC                             Durham-Chapel Hill, NC      1.962\n",
      "7          NY           Nassau-Suffolk, NY Metropolitan Division      2.050\n",
      "13         NY                                         Ithaca, NY      1.954\n",
      "2          PR                Aguadilla-Isabela-San Sebastian, PR      3.727\n",
      "3          PR                                          Ponce, PR      3.434\n",
      "4          PR                           San German-Cabo Rojo, PR      2.679\n",
      "5          PR                                       Mayaguez, PR      2.563\n"
     ]
    },
    {
     "data": {
      "text/plain": [
       "prim_state\n",
       "CT    2.01000\n",
       "DE    1.95200\n",
       "FL    1.97500\n",
       "KY    2.09900\n",
       "MA    1.98500\n",
       "MD    2.03600\n",
       "MO    1.94200\n",
       "NC    1.96200\n",
       "NY    2.00200\n",
       "PR    3.10075\n",
       "Name: jobs_1000, dtype: float64"
      ]
     },
     "execution_count": 66,
     "metadata": {},
     "output_type": "execute_result"
    }
   ],
   "source": [
    "# looking at the outliers job's per 1000\n",
    "j1_outliers = df[df['jobs_1000'] > df['jobs_1000'].mean() + 2 * df['jobs_1000'].std()]\n",
    "print(j1_outliers[['prim_state','area_name','jobs_1000']].sort_values('prim_state'))\n",
    "j1_outliers.groupby(['prim_state'])['jobs_1000'].mean()"
   ]
  },
  {
   "cell_type": "code",
   "execution_count": 74,
   "metadata": {},
   "outputs": [
    {
     "name": "stdout",
     "output_type": "stream",
     "text": [
      "{'MA', 'NY', 'MD'}\n"
     ]
    }
   ],
   "source": [
    "# states with outliers per 1000 and overall employment\n",
    "print(set(j1_outliers['prim_state']).intersection(set(te_outliers['prim_state'])))"
   ]
  },
  {
   "cell_type": "code",
   "execution_count": null,
   "metadata": {},
   "outputs": [],
   "source": []
  }
 ],
 "metadata": {
  "kernelspec": {
   "display_name": "Python 3",
   "language": "python",
   "name": "python3"
  },
  "language_info": {
   "codemirror_mode": {
    "name": "ipython",
    "version": 3
   },
   "file_extension": ".py",
   "mimetype": "text/x-python",
   "name": "python",
   "nbconvert_exporter": "python",
   "pygments_lexer": "ipython3",
   "version": "3.6.6"
  }
 },
 "nbformat": 4,
 "nbformat_minor": 2
}
