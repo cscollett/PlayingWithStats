{
 "cells": [
  {
   "cell_type": "markdown",
   "metadata": {},
   "source": [
    "## Getting Started with Statistics and Python\n",
    "\n",
    "This notebook walks through the basics of getting your environment setup to play with statisitcs. In later notebooks I will just include this boiler plate without introduction. **If you don't mind glossing over boilerplate code, move onto the next notebook.**"
   ]
  },
  {
   "cell_type": "markdown",
   "metadata": {},
   "source": [
    "### Environment\n",
    "\n",
    "This notebook assumes you are either running locally or on Google's Colabratory environment. Since some commands are environment-dependent, the method below will try figure out where you are. YMMV on another platform, or as this notebook ages. \n",
    "\n",
    "#### Locally\n",
    "\n",
    "Clone this repository, navigate to the root of the repository, and run `jupyter notebook`. For more info go to: http://jupyter.org/install\n",
    "\n",
    "#### Google Colabratory\n",
    "\n",
    "Go to: https://colab.research.google.com/\n",
    "\n",
    "Once logged in, select Github and enter: https://github.com/cscollett/PlayingWithStats"
   ]
  },
  {
   "cell_type": "code",
   "execution_count": 1,
   "metadata": {},
   "outputs": [],
   "source": [
    "# Method for determining a Google Colab env or not\n",
    "def at_google_colab():\n",
    "    try:\n",
    "        config = get_ipython().config \n",
    "        if config['IPKernelApp']['kernel_class'] == 'google.colab._kernel.Kernel':\n",
    "            return True\n",
    "        else:\n",
    "            return False\n",
    "    except NameError:\n",
    "        return False\n",
    "\n",
    "# where are we?\n",
    "location = None\n",
    "if at_google_colab():\n",
    "    location = 'at Google'\n",
    "else:\n",
    "    location = 'locally'\n",
    "\n",
    "# print prediction\n",
    "print('I think you are running {}!'.format(location))"
   ]
  },
  {
   "cell_type": "markdown",
   "metadata": {},
   "source": [
    "### Importing Libraries\n",
    "\n",
    "We will be using several packages to help with the math and plotting.\n",
    "\n",
    "*NumPy* - \"NumPy is a library for the Python programming language, adding support for large, multi-dimensional arrays and matrices, along with a large collection of high-level mathematical functions to operate on these arrays.\" https://en.wikipedia.org/wiki/NumPy\n",
    "\n",
    "*Pandas* - \"In computer programming, pandas is a software library written for the Python programming language for data manipulation and analysis. In particular, it offers data structures and operations for manipulating numerical tables and time series.\" https://en.wikipedia.org/wiki/Pandas_(software)"
   ]
  },
  {
   "cell_type": "code",
   "execution_count": 2,
   "metadata": {},
   "outputs": [],
   "source": [
    "import numpy as np\n",
    "import pandas as pd"
   ]
  },
  {
   "cell_type": "markdown",
   "metadata": {},
   "source": [
    "*Matplotlib* - \"Matplotlib is a plotting library for the Python programming language and its numerical mathematics extension NumPy.\" https://en.wikipedia.org/wiki/Matplotlib"
   ]
  },
  {
   "cell_type": "code",
   "execution_count": 3,
   "metadata": {},
   "outputs": [],
   "source": [
    "import matplotlib\n",
    "import matplotlib.pyplot as plt    \n",
    "if at_google_colab:\n",
    "    %matplotlib inline\n",
    "else:\n",
    "    %matplotlib notebook"
   ]
  },
  {
   "cell_type": "markdown",
   "metadata": {},
   "source": [
    "## Done\n"
   ]
  }
 ],
 "metadata": {
  "kernelspec": {
   "display_name": "Python 3",
   "language": "python",
   "name": "python3"
  },
  "language_info": {
   "codemirror_mode": {
    "name": "ipython",
    "version": 3
   },
   "file_extension": ".py",
   "mimetype": "text/x-python",
   "name": "python",
   "nbconvert_exporter": "python",
   "pygments_lexer": "ipython3",
   "version": "3.6.6"
  }
 },
 "nbformat": 4,
 "nbformat_minor": 2
}
