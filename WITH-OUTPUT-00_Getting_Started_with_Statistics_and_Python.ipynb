{
 "cells": [
  {
   "cell_type": "markdown",
   "metadata": {},
   "source": [
    "## Getting Started with Statistics and Python\n",
    "\n",
    "This notebook walks through the basics of getting your environment setup to play with statisitcs. In later notebooks I will just include this boiler plate without introduction. **If you don't mind glossing over boilerplate code, move onto the next notebook.**"
   ]
  },
  {
   "cell_type": "markdown",
   "metadata": {},
   "source": [
    "### Environment\n",
    "\n",
    "This notebook assumes you are either running locally or on Google's Colabratory environment. Since some commands are environment-dependent, the method below will try figure out where you are. YMMV on another platform, or as this notebook ages. \n",
    "\n",
    "#### Locally\n",
    "\n",
    "Clone this repository, navigate to the root of the repository, and run `jupyter notebook`. For more info go to: http://jupyter.org/install\n",
    "\n",
    "#### Google Colabratory\n",
    "\n",
    "Go to: https://colab.research.google.com/\n",
    "\n",
    "Once logged in, select Github and enter: https://github.com/cscollett/PlayingWithStats"
   ]
  },
  {
   "cell_type": "code",
   "execution_count": null,
   "metadata": {},
   "outputs": [],
   "source": [
    "# Method for determining a Google Colab env or not\n",
    "def at_google_colab():\n",
    "    try:\n",
    "        config = get_ipython().config \n",
    "        if config['IPKernelApp']['kernel_class'] == 'google.colab._kernel.Kernel':\n",
    "            return True\n",
    "        else:\n",
    "            return False\n",
    "    except NameError:\n",
    "        return False\n",
    "\n",
    "# where are we?\n",
    "location = None\n",
    "if at_google_colab():\n",
    "    location = 'at Google'\n",
    "else:\n",
    "    location = 'locally'\n",
    "\n",
    "# print prediction\n",
    "print('I think you are running {}!'.format(location))"
   ]
  },
  {
   "cell_type": "markdown",
   "metadata": {},
   "source": [
    "### Importing Libraries\n",
    "\n",
    "We will be using several packages to help with the math and plotting.\n",
    "\n",
    "*NumPy* - \"NumPy is a library for the Python programming language, adding support for large, multi-dimensional arrays and matrices, along with a large collection of high-level mathematical functions to operate on these arrays.\" https://en.wikipedia.org/wiki/NumPy\n",
    "\n",
    "*Pandas* - \"In computer programming, pandas is a software library written for the Python programming language for data manipulation and analysis. In particular, it offers data structures and operations for manipulating numerical tables and time series.\" https://en.wikipedia.org/wiki/Pandas_(software)"
   ]
  },
  {
   "cell_type": "code",
   "execution_count": null,
   "metadata": {},
   "outputs": [],
   "source": [
    "import numpy as np\n",
    "import pandas as pd"
   ]
  },
  {
   "cell_type": "markdown",
   "metadata": {},
   "source": [
    "*Matplotlib* - \"Matplotlib is a plotting library for the Python programming language and its numerical mathematics extension NumPy.\" https://en.wikipedia.org/wiki/Matplotlib"
   ]
  },
  {
   "cell_type": "code",
   "execution_count": null,
   "metadata": {},
   "outputs": [],
   "source": [
    "import matplotlib\n",
    "import matplotlib.pyplot as plt    \n",
    "if at_google_colab:\n",
    "    %matplotlib inline\n",
    "else:\n",
    "    %matplotlib notebook"
   ]
  },
  {
   "cell_type": "markdown",
   "metadata": {},
   "source": [
    "### 1. Pandas DataFrame Tutorial\n",
    "Most mathy work in python is done with NumPy arrays or Pandas Dataframes. The differences between Python dictionaries and NumPy arrays are that NumPy arrays better-suited towards mathametical operations than dictionaries. Likewise, Pandas dataframes are also geared towards mathamatical operations than Python dictionaries, but are more geared towards data management, like relational database tables.\n",
    "\n",
    "https://medium.com/@ericvanrees/pandas-series-objects-and-numpy-arrays-15dfe05919d7"
   ]
  },
  {
   "cell_type": "code",
   "execution_count": null,
   "metadata": {},
   "outputs": [],
   "source": [
    "d = {'language': ['C','Python 3', 'Rust', 'Javascript', 'Java', 'Haskell', 'Perl'], \\\n",
    "     'b-tree_bmark_secs': [2.54, 93.40, 4.31, 23.78, 8.29, 25.13, 183.13]}\n",
    "print(\"Python Dictionary\")\n",
    "print(type(d))\n",
    "print(d)\n",
    "np_array = np.array(d)\n",
    "print(\"\\n\")\n",
    "\n",
    "print(\"NumPy Array\")\n",
    "print(type(np_array))\n",
    "print(np_array)\n",
    "print(\"\\n\")\n",
    "\n",
    "print(\"Pandas Dataframe\")\n",
    "pd_dataframe = pd.DataFrame(data=d)\n",
    "print(type(pd_dataframe))\n",
    "print(pd_dataframe)"
   ]
  },
  {
   "cell_type": "markdown",
   "metadata": {},
   "source": [
    "Notice, the dataframe has rows with index places, and columns with headers. To better sense the size and of scale your dataframe, you can call them:"
   ]
  },
  {
   "cell_type": "code",
   "execution_count": null,
   "metadata": {},
   "outputs": [],
   "source": [
    "print(\"Shape of data (rows, columns): {}\".format(pd_dataframe.shape))\n",
    "print(\"Size (count of all values): {}\".format(pd_dataframe.size))"
   ]
  },
  {
   "cell_type": "markdown",
   "metadata": {},
   "source": [
    "Print all the columns of the dataframe."
   ]
  },
  {
   "cell_type": "code",
   "execution_count": null,
   "metadata": {},
   "outputs": [],
   "source": [
    "print(pd_dataframe.columns)"
   ]
  },
  {
   "cell_type": "markdown",
   "metadata": {},
   "source": [
    "Print the data types. "
   ]
  },
  {
   "cell_type": "code",
   "execution_count": null,
   "metadata": {},
   "outputs": [],
   "source": [
    "print(\"Data Types: {}\".format(pd_dataframe.dtypes))"
   ]
  },
  {
   "cell_type": "markdown",
   "metadata": {},
   "source": [
    "When your data is very big, you may only want to print out a couple rows."
   ]
  },
  {
   "cell_type": "code",
   "execution_count": null,
   "metadata": {},
   "outputs": [],
   "source": [
    "# default for header is 5 rows, but you can specify any number\n",
    "print(pd_dataframe.head(3))"
   ]
  },
  {
   "cell_type": "markdown",
   "metadata": {},
   "source": [
    "_**Q**: Guess the command to print the last three rows?_"
   ]
  },
  {
   "cell_type": "code",
   "execution_count": null,
   "metadata": {},
   "outputs": [],
   "source": [
    "#   language  b-tree_bmark_secs\n",
    "# 4     Java               8.29\n",
    "# 5  Haskell              25.13\n",
    "# 6     Perl             183.13"
   ]
  },
  {
   "cell_type": "markdown",
   "metadata": {},
   "source": [
    "If you want only the data, you can print a simple numpy array, with no columns or index rows. "
   ]
  },
  {
   "cell_type": "code",
   "execution_count": null,
   "metadata": {},
   "outputs": [],
   "source": [
    "print(type(pd_dataframe.values))\n",
    "print(pd_dataframe.values)"
   ]
  },
  {
   "cell_type": "markdown",
   "metadata": {},
   "source": [
    "Or maybe you only want the column as a list, in which case you can grab the series."
   ]
  },
  {
   "cell_type": "code",
   "execution_count": null,
   "metadata": {},
   "outputs": [],
   "source": [
    "print(type(pd_dataframe['b-tree_bmark_secs']))\n",
    "print(pd_dataframe['b-tree_bmark_secs'])"
   ]
  },
  {
   "cell_type": "markdown",
   "metadata": {},
   "source": [
    "It may be handy to know you can sort in a dataframe too."
   ]
  },
  {
   "cell_type": "code",
   "execution_count": null,
   "metadata": {},
   "outputs": [],
   "source": [
    "# this returns a sorted dataframe, the original 'dataframe' remains original order.\n",
    "sorted_df = pd_dataframe.sort_values(by=['b-tree_bmark_secs'])\n",
    "print(sorted_df)"
   ]
  },
  {
   "cell_type": "markdown",
   "metadata": {},
   "source": [
    "Finally, you may want to search for a subset. This is a little unintuitive if you are used to SQL. Let's say we want all the language less than 10. The first step is to create an evaluation of every row on a condition, returning a Pandas Series."
   ]
  },
  {
   "cell_type": "code",
   "execution_count": null,
   "metadata": {},
   "outputs": [],
   "source": [
    "select_criteria = pd_dataframe['b-tree_bmark_secs'] < 10\n",
    "print(type(select_criteria))\n",
    "print(select_criteria)"
   ]
  },
  {
   "cell_type": "markdown",
   "metadata": {},
   "source": [
    "Then you pass that series into the original dataframe. It will only return the rows that are true in the series you passed."
   ]
  },
  {
   "cell_type": "code",
   "execution_count": null,
   "metadata": {},
   "outputs": [],
   "source": [
    "print(pd_dataframe[select_criteria])"
   ]
  },
  {
   "cell_type": "markdown",
   "metadata": {},
   "source": [
    "For shorthand you can combine it into one statement."
   ]
  },
  {
   "cell_type": "code",
   "execution_count": null,
   "metadata": {},
   "outputs": [],
   "source": [
    "print(pd_dataframe[pd_dataframe['b-tree_bmark_secs'] < 10])"
   ]
  },
  {
   "cell_type": "markdown",
   "metadata": {},
   "source": [
    "## Done"
   ]
  },
  {
   "cell_type": "code",
   "execution_count": null,
   "metadata": {},
   "outputs": [],
   "source": []
  }
 ],
 "metadata": {
  "kernelspec": {
   "display_name": "Python 3",
   "language": "python",
   "name": "python3"
  },
  "language_info": {
   "codemirror_mode": {
    "name": "ipython",
    "version": 3
   },
   "file_extension": ".py",
   "mimetype": "text/x-python",
   "name": "python",
   "nbconvert_exporter": "python",
   "pygments_lexer": "ipython3",
   "version": "3.6.6"
  }
 },
 "nbformat": 4,
 "nbformat_minor": 2
}
