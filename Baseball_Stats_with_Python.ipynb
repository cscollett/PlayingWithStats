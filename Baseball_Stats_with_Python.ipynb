{
 "cells": [
  {
   "cell_type": "markdown",
   "metadata": {},
   "source": [
    "## Baseball Stat\n",
    "\n",
    "These are examples and data (baseball.csv) I grabbed off of Github and modified. They originated with a DataCamp exercise.\n",
    "\n",
    "**This was my first attempt at playing with data. Check out my other notebooks first, unless you really love baseball**"
   ]
  },
  {
   "cell_type": "code",
   "execution_count": 1,
   "metadata": {},
   "outputs": [
    {
     "name": "stdout",
     "output_type": "stream",
     "text": [
      "I think you are running locally!\n"
     ]
    }
   ],
   "source": [
    "# Boilerplate Environment. See notebook: 0_Getting_Started_with_Statistics_and_Python# Boile \n",
    "\n",
    "# Determining enviornment\n",
    "def at_google_colab():\n",
    "    try:\n",
    "        cfg = get_ipython().config \n",
    "        if cfg['IPKernelApp']['kernel_class'] == 'google.colab._kernel.Kernel':\n",
    "            return True\n",
    "        else:\n",
    "            return False\n",
    "    except NameError:\n",
    "        return False\n",
    "\n",
    "# where are we?\n",
    "location = None\n",
    "if at_google_colab():\n",
    "    location = 'at Google'\n",
    "else:\n",
    "    location = 'locally'\n",
    "\n",
    "# print prediction\n",
    "print('I think you are running {}!'.format(location))\n",
    "\n",
    "# Import packages\n",
    "import numpy as np\n",
    "import pandas as pd\n",
    "from scipy import stats\n",
    "import matplotlib\n",
    "import matplotlib.pyplot as plt    \n",
    "if at_google_colab:\n",
    "    %matplotlib inline\n",
    "else:\n",
    "    %matplotlib notebook\n",
    "\n",
    "\n",
    "# Example of loading locally\n",
    "#baseball = pd.read_csv('baseball.csv')\n",
    "if at_google_colab:\n",
    "    url = 'https://raw.githubusercontent.com/cscollett/PlayingWithStats/master/baseball.csv'\n",
    "    baseball = pd.read_csv(url,index_col=0,parse_dates=[0])\n",
    "    baseball.head()\n",
    "else:\n",
    "    # Example of loading locally\n",
    "    baseball = pd.read_csv('baseball.csv')"
   ]
  },
  {
   "cell_type": "code",
   "execution_count": 2,
   "metadata": {},
   "outputs": [
    {
     "name": "stdout",
     "output_type": "stream",
     "text": [
      "(1015, 6)\n"
     ]
    }
   ],
   "source": [
    "# Create a 2D numpy array from baseball: np_baseball\n",
    "np_baseball = np.array(baseball)\n",
    "\n",
    "# Print out the shape of np_baseball (rows, columns)\n",
    "print(np_baseball.shape)"
   ]
  },
  {
   "cell_type": "code",
   "execution_count": 3,
   "metadata": {},
   "outputs": [],
   "source": [
    "# Create np_height from table (height is the 3rd column)\n",
    "np_height = np.array(np_baseball[:,3])\n"
   ]
  },
  {
   "cell_type": "code",
   "execution_count": 4,
   "metadata": {},
   "outputs": [
    {
     "name": "stdout",
     "output_type": "stream",
     "text": [
      "Baseball Player Height\n",
      "Average: 201.34876847290641\n",
      "Median: 200.0\n",
      "Mode: 200\n",
      "Standard Deviation: 20.812854496114745\n"
     ]
    }
   ],
   "source": [
    "print(\"Baseball Player Height\")\n",
    "\n",
    "h_avg = np.mean(np_height)\n",
    "print(\"Average: \" + str(h_avg))\n",
    "\n",
    "h_med = np.median(np_height)\n",
    "print(\"Median: \" + str(h_med))\n",
    "\n",
    "h_mode = stats.mode(np_height)[0][0]\n",
    "print(\"Mode: \" + str(h_mode))\n",
    "\n",
    "h_stddev = np.std(np_height)\n",
    "print(\"Standard Deviation: \" + str(h_stddev))\n"
   ]
  },
  {
   "cell_type": "code",
   "execution_count": 5,
   "metadata": {},
   "outputs": [
    {
     "name": "stdout",
     "output_type": "stream",
     "text": [
      "[22.99 34.69 30.78 ... 25.19 31.01 27.92]\n"
     ]
    }
   ],
   "source": [
    "# Create np_weight from table (weight is the 3rd column)\n",
    "np_weight = np.array(np_baseball[:,4])\n",
    "print(np_weight)"
   ]
  },
  {
   "cell_type": "code",
   "execution_count": 6,
   "metadata": {},
   "outputs": [
    {
     "name": "stdout",
     "output_type": "stream",
     "text": [
      "Baseball Player Weight\n",
      "Average: 28.708354679802923\n",
      "Median: 27.9\n",
      "Mode: 24.94\n",
      "Standard Deviation: 4.312326809808862\n"
     ]
    }
   ],
   "source": [
    "print(\"Baseball Player Weight\")\n",
    "\n",
    "w_avg = np.mean(np_weight)\n",
    "print(\"Average: \" + str(w_avg))\n",
    "\n",
    "w_med = np.median(np_weight)\n",
    "print(\"Median: \" + str(w_med))\n",
    "\n",
    "w_mode = stats.mode(np_weight)[0][0]\n",
    "print(\"Mode: \" + str(w_mode))\n",
    "\n",
    "w_stddev = np.std(np_weight)\n",
    "print(\"Standard Deviation: \" + str(w_stddev))\n"
   ]
  },
  {
   "cell_type": "code",
   "execution_count": 7,
   "metadata": {},
   "outputs": [
    {
     "name": "stdout",
     "output_type": "stream",
     "text": [
      "Correlation of Height and Weight: 0.14371113458624662\n"
     ]
    }
   ],
   "source": [
    "# Pearson's correlation\n",
    "# https://www.dummies.com/education/math/statistics/how-to-interpret-a-correlation-coefficient-r/\n",
    "    \n",
    "# Print out correlation between height and wegiht\n",
    "corr_matrix = np.corrcoef(np_height.astype(float), np_weight.astype(float))\n",
    "\n",
    "# get correlation from matrix\n",
    "corr_num = corr_matrix[1,0]\n",
    "\n",
    "print(\"Correlation of Height and Weight: \" + str(corr_num))"
   ]
  },
  {
   "cell_type": "code",
   "execution_count": 8,
   "metadata": {},
   "outputs": [
    {
     "data": {
      "image/png": "[encoded data removed]",
      "text/plain": [
       "<Figure size 432x288 with 1 Axes>"
      ]
     },
     "metadata": {},
     "output_type": "display_data"
    }
   ],
   "source": [
    "np.random.seed(19680801)\n",
    "\n",
    "# example data\n",
    "mu = 100  # mean of distribution\n",
    "sigma = 15  # standard deviation of distribution\n",
    "x = mu + sigma * np.random.randn(437)\n",
    "\n",
    "num_bins = 50\n",
    "\n",
    "fig, ax = plt.subplots()\n",
    "\n",
    "# the histogram of the data\n",
    "n, bins, patches = ax.hist(x, num_bins, density=1)\n",
    "\n",
    "# add a 'best fit' line\n",
    "y = ((1 / (np.sqrt(2 * np.pi) * sigma)) *\n",
    "     np.exp(-0.5 * (1 / sigma * (bins - mu))**2))\n",
    "ax.plot(bins, y, '--')\n",
    "ax.set_xlabel('Smarts')\n",
    "ax.set_ylabel('Probability density')\n",
    "ax.set_title(r'Histogram of IQ: $\\mu=100$, $\\sigma=15$')\n",
    "\n",
    "# Tweak spacing to prevent clipping of ylabel\n",
    "fig.tight_layout()\n",
    "plt.show()\n"
   ]
  },
  {
   "cell_type": "code",
   "execution_count": null,
   "metadata": {},
   "outputs": [],
   "source": []
  },
  {
   "cell_type": "code",
   "execution_count": 9,
   "metadata": {},
   "outputs": [
    {
     "data": {
      "image/png": "[encoded data removed]",
      "text/plain": [
       "<Figure size 432x288 with 1 Axes>"
      ]
     },
     "metadata": {},
     "output_type": "display_data"
    }
   ],
   "source": [
    "mu = h_avg\n",
    "sigma = h_stddev\n",
    "x = np_height.astype(float)\n",
    "\n",
    "num_bins = 15\n",
    "\n",
    "fig, ax = plt.subplots()\n",
    "\n",
    "# the histogram of the data\n",
    "n, bins, patches = ax.hist(x, num_bins, density=1)\n",
    "\n",
    "# add a 'best fit' line\n",
    "# y = ((1 / (np.sqrt(2 * np.pi) * sigma)) *\n",
    "#      np.exp(-0.5 * (1 / sigma * (bins - mu))**2))\n",
    "y = ((1 / (np.sqrt(2 * np.pi) * sigma)) *\n",
    "     np.exp(-0.5 * (1 / sigma * (bins - mu))**2))\n",
    "ax.plot(bins, y, '--')\n",
    "ax.set_xlabel('Height')\n",
    "ax.set_ylabel('Probability density')\n",
    "ax.set_title(r'Histogram of IQ: $\\mu={0:.2f}$, $\\sigma={1:.2f}$'.format(mu, sigma))\n",
    "\n",
    "# Tweak spacing to prevent clipping of ylabel\n",
    "fig.tight_layout()\n",
    "plt.show()"
   ]
  }
 ],
 "metadata": {
  "kernelspec": {
   "display_name": "Python 3",
   "language": "python",
   "name": "python3"
  },
  "language_info": {
   "codemirror_mode": {
    "name": "ipython",
    "version": 3
   },
   "file_extension": ".py",
   "mimetype": "text/x-python",
   "name": "python",
   "nbconvert_exporter": "python",
   "pygments_lexer": "ipython3",
   "version": "3.6.6"
  }
 },
 "nbformat": 4,
 "nbformat_minor": 2
}
